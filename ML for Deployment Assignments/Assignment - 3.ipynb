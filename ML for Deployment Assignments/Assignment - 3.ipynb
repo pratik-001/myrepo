{
 "cells": [
  {
   "cell_type": "markdown",
   "metadata": {},
   "source": [
    "# Task 1"
   ]
  },
  {
   "cell_type": "code",
   "execution_count": 23,
   "metadata": {},
   "outputs": [
    {
     "name": "stdout",
     "output_type": "stream",
     "text": [
      "Division by zero is not possible.\n"
     ]
    }
   ],
   "source": [
    "#1 \n",
    "def divide(a,b): \n",
    "    try: \n",
    "        result = a//b \n",
    "        print(\"Result is:\", result) \n",
    "    except ZeroDivisionError: \n",
    "            print(\"Division by zero is not possible.\") \n",
    "\n",
    "divide(5,0) \n"
   ]
  },
  {
   "cell_type": "code",
   "execution_count": 12,
   "metadata": {},
   "outputs": [
    {
     "name": "stdout",
     "output_type": "stream",
     "text": [
      "Americans  play Baseball.\n",
      "Americans  play Cricket.\n",
      "Americans  watch Baseball.\n",
      "Americans  watch Cricket.\n",
      "Indians play Baseball.\n",
      "Indians play Cricket.\n",
      "Indians watch Baseball.\n",
      "Indians watch Cricket.\n"
     ]
    }
   ],
   "source": [
    "#2\n",
    "subjects=[\"Americans \",\"Indians\"]\n",
    "verbs=[\"play\",\"watch\"]\n",
    "objects=[\"Baseball\",\"Cricket\"]\n",
    "\n",
    "for i in subjects:\n",
    "    for j in verbs:\n",
    "        for k in objects:\n",
    "            print(i + \" \" + j + \" \" + k + \".\")\n"
   ]
  },
  {
   "cell_type": "markdown",
   "metadata": {},
   "source": [
    "# Task 2"
   ]
  },
  {
   "cell_type": "code",
   "execution_count": 26,
   "metadata": {},
   "outputs": [
    {
     "name": "stdout",
     "output_type": "stream",
     "text": [
      "[[1, 1, 1, 1], [16, 8, 4, 2], [81, 27, 9, 3], [256, 64, 16, 4]]\n"
     ]
    }
   ],
   "source": [
    "#1\n",
    "x=[1,2,3,4]\n",
    "num=4\n",
    "nl = []\n",
    "def my_function():\n",
    "    for i in x:\n",
    "        c=[i**number for number in range(1,num+1)]\n",
    "        nl.append(c[::-1])\n",
    "my_function()\n",
    "print(nl)"
   ]
  },
  {
   "cell_type": "code",
   "execution_count": null,
   "metadata": {},
   "outputs": [],
   "source": []
  }
 ],
 "metadata": {
  "kernelspec": {
   "display_name": "Python 3",
   "language": "python",
   "name": "python3"
  }
 },
 "nbformat": 4,
 "nbformat_minor": 2
}
